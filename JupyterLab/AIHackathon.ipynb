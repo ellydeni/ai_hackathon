{
 "cells": [
  {
   "cell_type": "code",
   "execution_count": 3,
   "id": "fad7b908-ea00-452f-9e96-4299832aec9e",
   "metadata": {},
   "outputs": [
    {
     "name": "stdout",
     "output_type": "stream",
     "text": [
      "Collecting python-pptx\n",
      "  Downloading python-pptx-0.6.21.tar.gz (10.1 MB)\n",
      "Requirement already satisfied: lxml>=3.1.0 in c:\\users\\danny\\anaconda3\\lib\\site-packages (from python-pptx) (4.6.3)\n",
      "Requirement already satisfied: Pillow>=3.3.2 in c:\\users\\danny\\anaconda3\\lib\\site-packages (from python-pptx) (8.4.0)\n",
      "Requirement already satisfied: XlsxWriter>=0.5.7 in c:\\users\\danny\\anaconda3\\lib\\site-packages (from python-pptx) (3.0.1)\n",
      "Building wheels for collected packages: python-pptx\n",
      "  Building wheel for python-pptx (setup.py): started\n",
      "  Building wheel for python-pptx (setup.py): finished with status 'done'\n",
      "  Created wheel for python-pptx: filename=python_pptx-0.6.21-py3-none-any.whl size=470950 sha256=e080d2c26f17bb2ce993f6f535dabbfdf798f9f800818ad98219d9ab8fe37ce5\n",
      "  Stored in directory: c:\\users\\danny\\appdata\\local\\pip\\cache\\wheels\\0e\\4a\\ed\\9653bc799915f52dce3f04d14946fbd85cce9c3cdedc9cfa71\n",
      "Successfully built python-pptx\n",
      "Installing collected packages: python-pptx\n",
      "Successfully installed python-pptx-0.6.21\n",
      "Note: you may need to restart the kernel to use updated packages.\n"
     ]
    }
   ],
   "source": [
    "pip install python-pptx"
   ]
  },
  {
   "cell_type": "code",
   "execution_count": 12,
   "id": "c1f50311-f5d4-43d9-9408-c670ee7fa05d",
   "metadata": {},
   "outputs": [],
   "source": [
    "from pptx import Presentation\n",
    "\n",
    "def extract_text_from_pptx(pptx_file):\n",
    "    prs = Presentation(pptx_file)\n",
    "    text = \"\"\n",
    "\n",
    "    for slide in prs.slides:\n",
    "        for shape in slide.shapes:\n",
    "            if not shape.has_text_frame:\n",
    "                continue\n",
    "            for paragraph in shape.text_frame.paragraphs:\n",
    "                for run in paragraph.runs:\n",
    "                    text += run.text + \" \"\n",
    "\n",
    "    return text"
   ]
  },
  {
   "cell_type": "code",
   "execution_count": 16,
   "id": "06f2e2d5-cedb-4b3b-a8f5-210695649f29",
   "metadata": {},
   "outputs": [
    {
     "data": {
      "text/plain": [
       "'Hallo das ist ein Test AR 1999 Karotte Patrick Hallo  Maulwurf Mixed Reality Das macht keinen Spaß Some   random   text VR '"
      ]
     },
     "execution_count": 16,
     "metadata": {},
     "output_type": "execute_result"
    }
   ],
   "source": [
    "extract_text_from_pptx(\"example.pptx\")"
   ]
  },
  {
   "cell_type": "code",
   "execution_count": 18,
   "id": "813b0836-a566-4e3b-9a2c-1d26413b27ba",
   "metadata": {},
   "outputs": [
    {
     "name": "stdout",
     "output_type": "stream",
     "text": [
      "Collecting openaiNote: you may need to restart the kernel to use updated packages.\n",
      "  Downloading openai-0.18.1.tar.gz (42 kB)\n",
      "  Installing build dependencies: started\n",
      "  Installing build dependencies: finished with status 'done'\n",
      "  Getting requirements to build wheel: started\n",
      "  Getting requirements to build wheel: finished with status 'done'\n",
      "    Preparing wheel metadata: started\n",
      "    Preparing wheel metadata: finished with status 'done'\n",
      "Requirement already satisfied: pandas>=1.2.3 in c:\\users\\danny\\anaconda3\\lib\\site-packages (from openai) (1.3.4)\n",
      "Collecting pandas-stubs>=1.1.0.11\n",
      "  Downloading pandas_stubs-1.2.0.58-py3-none-any.whl (162 kB)\n",
      "Requirement already satisfied: tqdm in c:\\users\\danny\\anaconda3\\lib\\site-packages (from openai) (4.62.3)\n",
      "Requirement already satisfied: openpyxl>=3.0.7 in c:\\users\\danny\\anaconda3\\lib\\site-packages (from openai) (3.0.9)\n",
      "Requirement already satisfied: requests>=2.20 in c:\\users\\danny\\anaconda3\\lib\\site-packages (from openai) (2.26.0)\n",
      "Requirement already satisfied: et-xmlfile in c:\\users\\danny\\anaconda3\\lib\\site-packages (from openpyxl>=3.0.7->openai) (1.1.0)\n",
      "Requirement already satisfied: pytz>=2017.3 in c:\\users\\danny\\anaconda3\\lib\\site-packages (from pandas>=1.2.3->openai) (2021.3)\n",
      "Requirement already satisfied: python-dateutil>=2.7.3 in c:\\users\\danny\\anaconda3\\lib\\site-packages (from pandas>=1.2.3->openai) (2.8.2)\n",
      "Requirement already satisfied: numpy>=1.17.3 in c:\\users\\danny\\anaconda3\\lib\\site-packages (from pandas>=1.2.3->openai) (1.20.3)\n",
      "\n",
      "Requirement already satisfied: six>=1.5 in c:\\users\\danny\\anaconda3\\lib\\site-packages (from python-dateutil>=2.7.3->pandas>=1.2.3->openai) (1.16.0)\n",
      "Requirement already satisfied: charset-normalizer~=2.0.0 in c:\\users\\danny\\anaconda3\\lib\\site-packages (from requests>=2.20->openai) (2.0.4)\n",
      "Requirement already satisfied: certifi>=2017.4.17 in c:\\users\\danny\\anaconda3\\lib\\site-packages (from requests>=2.20->openai) (2021.10.8)\n",
      "Requirement already satisfied: idna<4,>=2.5 in c:\\users\\danny\\anaconda3\\lib\\site-packages (from requests>=2.20->openai) (3.2)\n",
      "Requirement already satisfied: urllib3<1.27,>=1.21.1 in c:\\users\\danny\\anaconda3\\lib\\site-packages (from requests>=2.20->openai) (1.26.7)\n",
      "Requirement already satisfied: colorama in c:\\users\\danny\\anaconda3\\lib\\site-packages (from tqdm->openai) (0.4.4)\n",
      "Building wheels for collected packages: openai\n",
      "  Building wheel for openai (PEP 517): started\n",
      "  Building wheel for openai (PEP 517): finished with status 'done'\n",
      "  Created wheel for openai: filename=openai-0.18.1-py3-none-any.whl size=53167 sha256=c02af0a09bfb879d7e4a4cd144a0db43810947e19a22f12771ab69fe8b7ae3f2\n",
      "  Stored in directory: c:\\users\\danny\\appdata\\local\\pip\\cache\\wheels\\85\\29\\67\\87d3709a07eda551bf9157849407d259869f7d8da694f0356d\n",
      "Successfully built openai\n",
      "Installing collected packages: pandas-stubs, openai\n",
      "Successfully installed openai-0.18.1 pandas-stubs-1.2.0.58\n"
     ]
    }
   ],
   "source": [
    "pip install openai"
   ]
  },
  {
   "cell_type": "code",
   "execution_count": 47,
   "id": "f4a1573b-c3fb-42a1-a720-3c1ea53ed97a",
   "metadata": {},
   "outputs": [],
   "source": [
    "import os\n",
    "import openai\n",
    "\n",
    "f = open(\"key.txt\", \"r\")\n",
    "\n",
    "openai.api_key = f.readline()"
   ]
  },
  {
   "cell_type": "code",
   "execution_count": 48,
   "id": "9b2433b9-be19-4de5-8653-9604b781f2ff",
   "metadata": {},
   "outputs": [],
   "source": [
    "text1 = \"Das Atari Video Computer System ist eine der ersten Spielkonsolen des US-amerikanischen Herstellers Atari. Sie basiert auf dem Mikroprozessor MOS 6507, einer eigens für Atari produ­zierten Variante des MOS 6502. Das Gerät kam 1977 zunächst nur in den Ver­einig­ten Staaten in den Handel, später welt­weit. Ende der 1970er war es auch in der Bundes­republik Deutsch­land erhält­lich. Mit Einfüh­rung der Nach­folge­konsole Atari 5200 im Jahr 1982 benannte Atari das Gerät in Atari 2600 um. Dem gingen verschie­dene Ände­rungen des äuße­ren Erschei­nungs­bildes voraus, die sich nach einem Eigen­tümer­wechsel Ataris 1984 fort­setzten. So folgte noch im selben Jahr mit der umgangs­sprach­lich Atari 2600 Junior genann­ten Konsole eine weitere Variante mit ver­schlank­tem Gehäuse. Die Produk­tion wurde Ende 1991 einge­stellt. Atari verkaufte weltweit etwa 30 Millionen Atari VCS 2600, wie die Gesamtheit aller Modelle zusammenfassend auch genannt wird.\"\n"
   ]
  },
  {
   "cell_type": "code",
   "execution_count": 49,
   "id": "b9ea7d71-03ee-4614-967b-c63cf745b77a",
   "metadata": {},
   "outputs": [],
   "source": [
    "response = openai.Completion.create(\n",
    "  engine=\"text-davinci-002\",\n",
    "  prompt=\"Summarize this for a student:\\n\\n\" + text1,\n",
    "  temperature=0.7,\n",
    "  max_tokens=64,\n",
    "  top_p=1,\n",
    "  frequency_penalty=0,\n",
    "  presence_penalty=0\n",
    ")"
   ]
  },
  {
   "cell_type": "code",
   "execution_count": 50,
   "id": "d2cdb8c4-7a6e-437e-aaca-6b4aa3519e1c",
   "metadata": {},
   "outputs": [
    {
     "data": {
      "text/plain": [
       "<OpenAIObject text_completion id=cmpl-4zsP5umAHUbwdvIf3JoMCXHx4Eodb at 0x1cf79311b30> JSON: {\n",
       "  \"choices\": [\n",
       "    {\n",
       "      \"finish_reason\": \"length\",\n",
       "      \"index\": 0,\n",
       "      \"logprobs\": null,\n",
       "      \"text\": \"\\n\\nThe Atari Video Computer System is one of the first game consoles by US manufacturer Atari. It is based on the MOS 6507 microprocessor, a variant of the MOS 6502 specifically produced for Atari. The device was first released in 1977 only in the United States, later worldwide. By the end of\"\n",
       "    }\n",
       "  ],\n",
       "  \"created\": 1650652483,\n",
       "  \"id\": \"cmpl-4zsP5umAHUbwdvIf3JoMCXHx4Eodb\",\n",
       "  \"model\": \"text-davinci:002\",\n",
       "  \"object\": \"text_completion\"\n",
       "}"
      ]
     },
     "execution_count": 50,
     "metadata": {},
     "output_type": "execute_result"
    }
   ],
   "source": [
    "response"
   ]
  },
  {
   "cell_type": "code",
   "execution_count": null,
   "id": "1a4a26a6-e742-4872-80f4-ebe13ec4a38f",
   "metadata": {},
   "outputs": [],
   "source": []
  }
 ],
 "metadata": {
  "kernelspec": {
   "display_name": "Python 3 (ipykernel)",
   "language": "python",
   "name": "python3"
  },
  "language_info": {
   "codemirror_mode": {
    "name": "ipython",
    "version": 3
   },
   "file_extension": ".py",
   "mimetype": "text/x-python",
   "name": "python",
   "nbconvert_exporter": "python",
   "pygments_lexer": "ipython3",
   "version": "3.9.7"
  }
 },
 "nbformat": 4,
 "nbformat_minor": 5
}
